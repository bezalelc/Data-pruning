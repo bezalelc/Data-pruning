{
 "cells": [
  {
   "cell_type": "code",
   "execution_count": 1,
   "metadata": {
    "collapsed": true
   },
   "outputs": [
    {
     "name": "stdout",
     "output_type": "stream",
     "text": [
      "CUDA is available!  Training on  GPU...\n",
      "Files already downloaded and verified\n",
      "Files already downloaded and verified\n"
     ]
    }
   ],
   "source": [
    "import os\n",
    "import sys\n",
    "\n",
    "import numpy as np\n",
    "import torch\n",
    "import torchvision\n",
    "from matplotlib import pyplot as plt\n",
    "from torch import tensor, Tensor\n",
    "from torch.nn import functional\n",
    "import pandas as pd\n",
    "\n",
    "sys.path.append(os.path.abspath(r'../../'))\n",
    "\n",
    "from src.config import PATH_SAVE_MODELS, PATH_DATASETS\n",
    "from src.utils.common import get_loader, get_device\n",
    "from src.utils.dataset import GPUDataset, get_cifar\n",
    "from src.utils.plot import plot_prune_example\n",
    "from src.utils.train import Mode, ModelManager\n",
    "\n",
    "# globals\n",
    "NUM_CLASSES = 100\n",
    "BATCH_SIZE = 25\n",
    "NUM_TRAIN = 50000\n",
    "NUM_TEST = 10000\n",
    "ENSEMBLE_SIZE = 10\n",
    "ENSEMBLE_EPOCHS = 4\n",
    "EPOCHS = 100\n",
    "\n",
    "ENSAMBLE_SAVED_DATA = os.path.join(PATH_SAVE_MODELS, 'el2n', 'general.pt')\n",
    "DEVICE = get_device()\n",
    "\n",
    "# data loaders, models\n",
    "# dataset = GPUDataset(load=True, cifar100=True)\n",
    "train_idx = np.arange(NUM_TRAIN)\n",
    "test_idx = np.arange(NUM_TEST)\n",
    "# loader_train = get_loader(dataset_train, train_idx, BATCH_SIZE)\n",
    "# loader_train_ordered = get_loader(dataset_train, train_idx, BATCH_SIZE, False)\n",
    "# loader_test = get_loader(dataset_test, test_idx, BATCH_SIZE, False)\n",
    "# Y_train = torch.from_numpy(np.array(dataset_train.targets)[train_idx])\n",
    "dataset_train, dataset_test = get_cifar(PATH_DATASETS)\n",
    "loader_train = get_loader(dataset_train, train_idx, BATCH_SIZE)\n",
    "loader_train_ordered = get_loader(dataset_train, train_idx, BATCH_SIZE, False)\n",
    "loader_test = get_loader(dataset_test, test_idx, BATCH_SIZE, False)\n",
    "Y_train = Tensor(dataset_train.targets)[train_idx].type(torch.int64)\n",
    "Y_test = Tensor(dataset_test.targets)[test_idx].type(torch.int64)"
   ]
  },
  {
   "cell_type": "code",
   "execution_count": 2,
   "outputs": [],
   "source": [
    "# get prune scores\n",
    "data = torch.load(ENSAMBLE_SAVED_DATA)\n",
    "\n",
    "ensemble_softmax = data['ensemble_softmax']\n",
    "ensemble_pred = data['ensemble_pred']\n",
    "ensemble_pred_sum = data['ensemble_pred_sum']\n",
    "ensemble_std = data['ensemble_std']\n",
    "el2n_scores = data['el2n_scores']\n",
    "forgetting_model = ModelManager(NUM_CLASSES, 'forgetting', load=True)\n",
    "change_counter = forgetting_model.data_other['change_counter']\n",
    "\n",
    "idx_sorted_el2n = el2n_scores.sort()[1].numpy()[:NUM_TRAIN]\n",
    "idx_sorted_forgetting = change_counter.sort()[1].numpy()[:NUM_TRAIN]\n",
    "idx_sorted_std = ensemble_std.sort()[1].numpy()[:NUM_TRAIN]\n",
    "idx_sorted_pred_sum = ensemble_pred_sum.sort()[1].numpy()[:NUM_TRAIN]"
   ],
   "metadata": {
    "collapsed": false
   }
  },
  {
   "cell_type": "markdown",
   "source": [
    "# train regular model"
   ],
   "metadata": {
    "collapsed": false
   }
  },
  {
   "cell_type": "code",
   "execution_count": null,
   "outputs": [],
   "source": [
    "regular_model = ModelManager(NUM_CLASSES, 'regular', load=False)\n",
    "regular_model.train(loader_train, loader_test, loader_test, EPOCHS)"
   ],
   "metadata": {
    "collapsed": false
   }
  },
  {
   "cell_type": "markdown",
   "source": [
    "# train with 1-10% hardest EL2N prune"
   ],
   "metadata": {
    "collapsed": false
   }
  },
  {
   "cell_type": "code",
   "execution_count": 7,
   "outputs": [
    {
     "name": "stdout",
     "output_type": "stream",
     "text": [
      "\n",
      "49500\n",
      "49000\n",
      "48500\n",
      "48000\n",
      "47500\n",
      "47000\n",
      "46500\n",
      "46000\n",
      "45500\n",
      "45000\n"
     ]
    }
   ],
   "source": [
    "models = [regular_model]\n",
    "\n",
    "loss, acc, prune_size = [], [], []\n",
    "print()\n",
    "for i in range(1, 11):\n",
    "    num_train = int(NUM_TRAIN * ((100 - i) / 100))\n",
    "    idx_to_train = idx_sorted_el2n[:num_train]\n",
    "    print(f'====     train model with {i}% most hard     ======')\n",
    "    loader_train = get_loader(dataset_train, idx_to_train, BATCH_SIZE, True)\n",
    "\n",
    "    model_manager = ModelManager(NUM_CLASSES, f'prune_hardest_{i}p', dir_='prune_hardest', load=False)\n",
    "    model_manager.train(loader_train, loader_test, loader_test, EPOCHS)\n",
    "\n",
    "    models.append(model_manager)\n",
    "    prune_size.append(i), acc.append(model_manager.data['test']['acc']), loss.append(\n",
    "        model_manager.data['test']['loss'])\n",
    "    print()\n",
    "\n",
    "ModelManager.save_models_log(models, 'el2n_p_hard_')\n",
    "\n",
    "fig, axes = plt.subplots(1, 2, figsize=(17, 4))\n",
    "axes[0].plot(prune_size, loss)\n",
    "axes[0].set_xlabel('prune size')\n",
    "axes[0].set_ylabel('Loss')\n",
    "axes[1].plot(prune_size, acc)\n",
    "axes[1].set_xlabel('prune size')\n",
    "axes[1].set_ylabel('Acc')\n",
    "fig.subplots_adjust(wspace=.4)\n",
    "plt.plot()"
   ],
   "metadata": {
    "collapsed": false
   }
  },
  {
   "cell_type": "markdown",
   "source": [
    "# train with pruning 25%"
   ],
   "metadata": {
    "collapsed": false
   }
  },
  {
   "cell_type": "code",
   "execution_count": null,
   "outputs": [],
   "source": [
    "# regular_model = ModelManager(NUM_CLASSES, 'prun_easy_25p', load=False)\n",
    "# regular_model.train(loader_train, loader_test, loader_test, EPOCHS)\n",
    "models = [regular_model]\n",
    "\n",
    "train_num = int(NUM_TRAIN * (75. / 100.))\n",
    "idx_random_prune = np.random.choice(np.arange(NUM_TRAIN), train_num, replace=False)\n",
    "name_to_idx = {'el2n': idx_sorted_el2n, 'std': idx_sorted_std, 'pred_sum': idx_sorted_pred_sum,\n",
    "               'forgetting': idx_sorted_forgetting, 'random': idx_random_prune}\n",
    "\n",
    "\n",
    "loss, acc, prune_size = [], [], []\n",
    "print()\n",
    "for model_name, idx in name_to_idx.items():\n",
    "\n",
    "    model_manager=ModelManager(NUM_CLASSES,f'prun_easy_25p_{model_name}',dir_='prun_easy_25p',load=False)\n",
    "    # model_manager.train()\n"
   ],
   "metadata": {
    "collapsed": false
   }
  },
  {
   "cell_type": "code",
   "execution_count": 12,
   "outputs": [
    {
     "data": {
      "text/plain": "array([5, 4, 2, 9, 7, 1, 0, 3, 6, 8])"
     },
     "execution_count": 12,
     "metadata": {},
     "output_type": "execute_result"
    }
   ],
   "source": [
    "np.random.choice(np.arange(10), 10, replace=False)"
   ],
   "metadata": {
    "collapsed": false
   }
  },
  {
   "cell_type": "code",
   "execution_count": 11,
   "outputs": [],
   "source": [],
   "metadata": {
    "collapsed": false
   }
  },
  {
   "cell_type": "code",
   "execution_count": 10,
   "outputs": [],
   "source": [],
   "metadata": {
    "collapsed": false
   }
  }
 ],
 "metadata": {
  "kernelspec": {
   "display_name": "Python 3",
   "language": "python",
   "name": "python3"
  },
  "language_info": {
   "codemirror_mode": {
    "name": "ipython",
    "version": 2
   },
   "file_extension": ".py",
   "mimetype": "text/x-python",
   "name": "python",
   "nbconvert_exporter": "python",
   "pygments_lexer": "ipython2",
   "version": "2.7.6"
  }
 },
 "nbformat": 4,
 "nbformat_minor": 0
}
